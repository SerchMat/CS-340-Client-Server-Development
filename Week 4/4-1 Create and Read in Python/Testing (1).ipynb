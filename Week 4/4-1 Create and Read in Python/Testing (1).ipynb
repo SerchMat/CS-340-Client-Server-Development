{
 "cells": [
  {
   "cell_type": "code",
   "execution_count": 14,
   "metadata": {},
   "outputs": [],
   "source": [
    "from CRUD import AnimalShelter"
   ]
  },
  {
   "cell_type": "code",
   "execution_count": 24,
   "metadata": {},
   "outputs": [],
   "source": [
    "shelter = AnimalShelter(\"aacuser\", \"Mateos1\")"
   ]
  },
  {
   "cell_type": "code",
   "execution_count": 1,
   "metadata": {},
   "outputs": [],
   "source": [
    "data = {\n",
    "    \"age_upon_outconme\":\"2 years\",\n",
    "    \"animal_type\":\"Dog\",\n",
    "    \"breed\" : \"Domestic Shorthair Mix\",\n",
    "    \"color\" : \"Brown\",\n",
    "    \"date_of_birth\" : \"2019-03-09\",\n",
    "    \"name\" : \"Test Dog number 3\"\n",
    "}"
   ]
  },
  {
   "cell_type": "code",
   "execution_count": null,
   "metadata": {},
   "outputs": [],
   "source": [
    "if shelter.create(data):\n",
    "    print(\"animal added\")\n",
    "else:\n",
    "    print(\"animal add unsuccesful\")"
   ]
  },
  {
   "cell_type": "code",
   "execution_count": null,
   "metadata": {},
   "outputs": [],
   "source": [
    "print(shelter.read(data))"
   ]
  }
 ],
 "metadata": {
  "kernelspec": {
   "display_name": "Python 3",
   "language": "python",
   "name": "python3"
  },
  "language_info": {
   "codemirror_mode": {
    "name": "ipython",
    "version": 3
   },
   "file_extension": ".py",
   "mimetype": "text/x-python",
   "name": "python",
   "nbconvert_exporter": "python",
   "pygments_lexer": "ipython3",
   "version": "3.6.9"
  }
 },
 "nbformat": 4,
 "nbformat_minor": 2
}
